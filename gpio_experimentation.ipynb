{
 "cells": [
  {
   "cell_type": "code",
   "execution_count": 5,
   "metadata": {
    "collapsed": false
   },
   "outputs": [],
   "source": [
    "import RPi.GPIO as gpio"
   ]
  },
  {
   "cell_type": "code",
   "execution_count": 6,
   "metadata": {
    "collapsed": false
   },
   "outputs": [
    {
     "data": {
      "text/plain": [
       "['BCM',\n",
       " 'BOARD',\n",
       " 'BOTH',\n",
       " 'FALLING',\n",
       " 'HARD_PWM',\n",
       " 'HIGH',\n",
       " 'I2C',\n",
       " 'IN',\n",
       " 'LOW',\n",
       " 'OUT',\n",
       " 'PUD_DOWN',\n",
       " 'PUD_OFF',\n",
       " 'PUD_UP',\n",
       " 'PWM',\n",
       " 'RISING',\n",
       " 'RPI_INFO',\n",
       " 'RPI_REVISION',\n",
       " 'SERIAL',\n",
       " 'SPI',\n",
       " 'UNKNOWN',\n",
       " 'VERSION',\n",
       " '__builtins__',\n",
       " '__cached__',\n",
       " '__doc__',\n",
       " '__file__',\n",
       " '__loader__',\n",
       " '__name__',\n",
       " '__package__',\n",
       " '__path__',\n",
       " '__spec__',\n",
       " 'add_event_callback',\n",
       " 'add_event_detect',\n",
       " 'cleanup',\n",
       " 'event_detected',\n",
       " 'getmode',\n",
       " 'gpio_function',\n",
       " 'input',\n",
       " 'output',\n",
       " 'remove_event_detect',\n",
       " 'setmode',\n",
       " 'setup',\n",
       " 'setwarnings',\n",
       " 'wait_for_edge']"
      ]
     },
     "execution_count": 6,
     "metadata": {},
     "output_type": "execute_result"
    }
   ],
   "source": [
    "dir(gpio) #List of gpio operations"
   ]
  },
  {
   "cell_type": "code",
   "execution_count": 8,
   "metadata": {
    "collapsed": false
   },
   "outputs": [
    {
     "data": {
      "text/plain": [
       "<function RPi._GPIO.input>"
      ]
     },
     "execution_count": 8,
     "metadata": {},
     "output_type": "execute_result"
    }
   ],
   "source": []
  },
  {
   "cell_type": "code",
   "execution_count": null,
   "metadata": {
    "collapsed": true
   },
   "outputs": [],
   "source": []
  }
 ],
 "metadata": {
  "kernelspec": {
   "display_name": "Python 3",
   "language": "python",
   "name": "python3"
  },
  "language_info": {
   "codemirror_mode": {
    "name": "ipython",
    "version": 3
   },
   "file_extension": ".py",
   "mimetype": "text/x-python",
   "name": "python",
   "nbconvert_exporter": "python",
   "pygments_lexer": "ipython3",
   "version": "3.4.2"
  }
 },
 "nbformat": 4,
 "nbformat_minor": 1
}
