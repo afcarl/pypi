{
 "cells": [
  {
   "cell_type": "code",
   "execution_count": 1,
   "metadata": {
    "collapsed": false
   },
   "outputs": [],
   "source": [
    "import RPi.GPIO as gpio\n",
    "from time import sleep\n",
    "gpio.setmode(gpio.BCM)"
   ]
  },
  {
   "cell_type": "code",
   "execution_count": 2,
   "metadata": {
    "collapsed": false
   },
   "outputs": [],
   "source": [
    "red=21\n",
    "red2=20\n",
    "yellow=16\n",
    "blue2=12\n",
    "blue=26\n",
    "uv=19\n",
    "colours = {'red':21, 'red2':20, 'yellow':16, 'blue2':12, 'blue':26, 'uv':19}"
   ]
  },
  {
   "cell_type": "code",
   "execution_count": null,
   "metadata": {
    "collapsed": false
   },
   "outputs": [],
   "source": []
  },
  {
   "cell_type": "code",
   "execution_count": null,
   "metadata": {
    "collapsed": false
   },
   "outputs": [],
   "source": [
    "gpio.setup(red, gpio.OUT)\n",
    "gpio.setup(red2, gpio.OUT)\n",
    "gpio.setup(yellow, gpio.OUT)\n",
    "gpio.setup(blue2, gpio.OUT)\n",
    "gpio.setup(blue, gpio.OUT)\n",
    "gpio.setup(uv, gpio.OUT)"
   ]
  },
  {
   "cell_type": "code",
   "execution_count": null,
   "metadata": {
    "collapsed": false
   },
   "outputs": [],
   "source": []
  },
  {
   "cell_type": "code",
   "execution_count": 4,
   "metadata": {
    "collapsed": true
   },
   "outputs": [],
   "source": [
    "def switch_all(colours, on=True):\n",
    "    colour_list = list(colours.keys())\n",
    "    if on is True:\n",
    "        for c in colour_list:\n",
    "            gpio.output(colours[c],1)\n",
    "    else:\n",
    "        for c in colour_list:\n",
    "            gpio.output(colours[c],0)"
   ]
  },
  {
   "cell_type": "code",
   "execution_count": null,
   "metadata": {
    "collapsed": false
   },
   "outputs": [],
   "source": []
  },
  {
   "cell_type": "code",
   "execution_count": 5,
   "metadata": {
    "collapsed": false
   },
   "outputs": [],
   "source": [
    "switch_all(colours, True)"
   ]
  },
  {
   "cell_type": "code",
   "execution_count": 6,
   "metadata": {
    "collapsed": false
   },
   "outputs": [],
   "source": [
    "import tweepy\n",
    "\n",
    "#INSERT YOUR CREDENTIALS HERE\n",
    "\n",
    "#Authorizing using tokens\n",
    "auth = tweepy.OAuthHandler(CONSUMER_KEY, CONSUMER_SECRET)\n",
    "auth.set_access_token(OAUTH_TOKEN, OAUTH_TOKEN_SECRET)\n",
    "\n",
    "#Generating an api object using the authorization\n",
    "api = tweepy.API(auth)\n",
    "\n",
    "    "
   ]
  },
  {
   "cell_type": "code",
   "execution_count": 7,
   "metadata": {
    "collapsed": false
   },
   "outputs": [],
   "source": [
    "def flash(colours, colour, n, speed):\n",
    "    for i in range(0,n):\n",
    "        sleep(speed)\n",
    "        if i%2 == 0:\n",
    "            gpio.output(colours[colour], 1)\n",
    "        else:\n",
    "            gpio.output(colours[colour], 0)\n",
    "        i+=1\n",
    "        \n",
    "def flash_alternating(colours, colour1, colour2, n, speed):\n",
    "        for i in range(0,n):\n",
    "            sleep(speed)\n",
    "            if i%2 == 0:\n",
    "                gpio.output(colours[colour1], 1)\n",
    "                gpio.output(colours[colour2],0)\n",
    "            else:\n",
    "                gpio.output(colours[colour1], 0)\n",
    "                gpio.output(colours[colour2], 1)\n",
    "            i+=1\n",
    "        gpio.output(colours[colour1], 0)\n",
    "        gpio.output(colours[colour2], 0)\n",
    "        \n",
    "        \n",
    "    "
   ]
  },
  {
   "cell_type": "code",
   "execution_count": 8,
   "metadata": {
    "collapsed": false
   },
   "outputs": [],
   "source": [
    "flash(colours, 'red', 10, 0.1)"
   ]
  },
  {
   "cell_type": "code",
   "execution_count": 9,
   "metadata": {
    "collapsed": false
   },
   "outputs": [],
   "source": [
    "flash(colours, 'blue', 10, 0.1)"
   ]
  },
  {
   "cell_type": "code",
   "execution_count": 10,
   "metadata": {
    "collapsed": false
   },
   "outputs": [],
   "source": [
    "def word_count(tweet_texts, word):\n",
    "    word = word.lower()\n",
    "    count = 0\n",
    "    for t in tweet_texts:\n",
    "        t=t.lower()\n",
    "        count+=t.count(word)\n",
    "    return count"
   ]
  },
  {
   "cell_type": "code",
   "execution_count": null,
   "metadata": {
    "collapsed": false
   },
   "outputs": [],
   "source": []
  },
  {
   "cell_type": "code",
   "execution_count": null,
   "metadata": {
    "collapsed": false
   },
   "outputs": [],
   "source": []
  },
  {
   "cell_type": "code",
   "execution_count": null,
   "metadata": {
    "collapsed": false
   },
   "outputs": [],
   "source": []
  },
  {
   "cell_type": "code",
   "execution_count": null,
   "metadata": {
    "collapsed": false
   },
   "outputs": [],
   "source": [
    "switch_all(colours, False)\n",
    "for i in range (0, 60):\n",
    "    gpio.output(colours['red'], 0)\n",
    "    gpio.output(colours['blue'], 0)\n",
    "    #sleep(30)\n",
    "    tweets = tweepy.Cursor(api.search, q=\"'debate'\").items(100)\n",
    "    tweet_texts = []\n",
    "    for tweet in tweets:\n",
    "        print(tweet.text)\n",
    "        tweet_texts.append(tweet.text)\n",
    "    H = word_count(tweet_texts, 'hillary')\n",
    "    T = word_count(tweet_texts, 'trump')\n",
    "    diff = H-T\n",
    "    if diff > 0:\n",
    "        flash_alternating(colours, 'red','blue', T, 0.4)\n",
    "        flash(colours, 'blue', abs(H-T), 0.5)\n",
    "        gpio.output(colours['blue2'], 1)\n",
    "        gpio.output(colours['red2'], 0)\n",
    "    else:\n",
    "        flash_alternating(colours, 'red','blue', T, 0.4)\n",
    "        flash(colours, 'red', abs(H-T), 0.5)\n",
    "        gpio.output(colours['blue2'], 0)\n",
    "        gpio.output(colours['red2'], 1)\n",
    "    flash(colours, 'yellow', word_count(tweet_texts, 'bill'), 0.5)\n",
    "    flash(colours, 'uv', word_count(tweet_texts, 'pussy'), 0.5)\n",
    "    gpio.output(colours['yellow'], 0)\n",
    "    gpio.output(colours['uv'], 0)\n",
    "    \n",
    "    "
   ]
  },
  {
   "cell_type": "code",
   "execution_count": null,
   "metadata": {
    "collapsed": false
   },
   "outputs": [],
   "source": []
  },
  {
   "cell_type": "code",
   "execution_count": null,
   "metadata": {
    "collapsed": true
   },
   "outputs": [],
   "source": []
  }
 ],
 "metadata": {
  "kernelspec": {
   "display_name": "Python 3",
   "language": "python",
   "name": "python3"
  },
  "language_info": {
   "codemirror_mode": {
    "name": "ipython",
    "version": 3
   },
   "file_extension": ".py",
   "mimetype": "text/x-python",
   "name": "python",
   "nbconvert_exporter": "python",
   "pygments_lexer": "ipython3",
   "version": "3.4.2"
  }
 },
 "nbformat": 4,
 "nbformat_minor": 1
}
